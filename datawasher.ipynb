{
 "cells": [
  {
   "attachments": {},
   "cell_type": "markdown",
   "metadata": {},
   "source": [
    "Here we'll clean up the raw data from /datasets_dirty and move the clean data to /datasets"
   ]
  },
  {
   "cell_type": "code",
   "execution_count": 2,
   "metadata": {},
   "outputs": [],
   "source": [
    "import pandas as pd\n",
    "\n",
    "try:\n",
    "    v_df = pd.read_csv('datasets_dirty/visits_log_us.csv')\n",
    "except:\n",
    "    v_df = pd.read_csv('/datasets/visits_log_us.csv')\n",
    "\n",
    "try:\n",
    "    o_df = pd.read_csv('datasets_dirty/orders_log_us.csv')\n",
    "except:\n",
    "    o_df = pd.read_csv('/datasets/orders_log_us.csv')\n",
    "\n",
    "try:\n",
    "    c_df = pd.read_csv('datasets_dirty/costs_us.csv')\n",
    "except:\n",
    "    c_df = pd.read_csv('/datasets/costs_us.csv')"
   ]
  },
  {
   "cell_type": "code",
   "execution_count": null,
   "metadata": {},
   "outputs": [],
   "source": [
    "v_df.info(memory_usage='deep')\n",
    "print(v_df.describe())\n",
    "print(v_df.head())\n",
    "print(v_df.sample(5))"
   ]
  },
  {
   "cell_type": "code",
   "execution_count": null,
   "metadata": {},
   "outputs": [],
   "source": [
    "v_df['Device'].value_counts()"
   ]
  },
  {
   "cell_type": "code",
   "execution_count": null,
   "metadata": {},
   "outputs": [],
   "source": [
    "v_df['Source Id'].value_counts()"
   ]
  },
  {
   "cell_type": "code",
   "execution_count": null,
   "metadata": {},
   "outputs": [],
   "source": [
    "v_df['Device'] = v_df['Device'].astype('category')\n",
    "v_df['Source Id'] = v_df['Source Id'].astype('category')\n",
    "\n",
    "v_df.info(memory_usage='deep')"
   ]
  },
  {
   "cell_type": "code",
   "execution_count": null,
   "metadata": {},
   "outputs": [],
   "source": [
    "v_df['Start Ts'] =  pd.to_datetime(v_df['Start Ts'], format=\"%Y.%m.%d %H:%M\")\n",
    "v_df['End Ts'] =  pd.to_datetime(v_df['End Ts'], format=\"%Y.%m.%d %H:%M\")"
   ]
  },
  {
   "cell_type": "code",
   "execution_count": null,
   "metadata": {},
   "outputs": [],
   "source": [
    "v_df = v_df.rename(\n",
    "    columns={\n",
    "        'Uid': 'uid',\n",
    "        'Device': 'device',\n",
    "        'Start Ts': 'start_time',\n",
    "        'End Ts': 'end_time',\n",
    "        'Source Id': 'source_id'\n",
    "    }\n",
    ")\n",
    "\n",
    "v_df.info(memory_usage='deep')\n",
    "print(v_df.describe())\n",
    "print(v_df.head())\n",
    "print(v_df.sample(5))"
   ]
  },
  {
   "attachments": {},
   "cell_type": "markdown",
   "metadata": {},
   "source": [
    "Going from memory usage: 79.3 MB to memory usage: 8.9 MB without any loss of data? Nice.\n",
    "## The visits table (server logs with data on website visits):\n",
    "- uid — user's unique identifier\n",
    "    - Change from 'Uid' to 'uid'\n",
    "- device — user's device\n",
    "    - Change from 'Device' to 'device'\n",
    "    - There's only two different values, so I'll change the type to category\n",
    "- start_time — session start date and time\n",
    "    - Change name from 'Start Ts' to 'start_time'\n",
    "    - Looks like the seconds aren't included in this, I'll convert to datetime\n",
    "- end_time — session end date and time\n",
    "    - Change name from 'End Ts' to 'end_time'\n",
    "    - Change to datetime type also\n",
    "- source_id — identifier of the ad source the user came from\n",
    "    - Change name from 'Source Id' to 'source_id'\n",
    "    - There's only 10 unique values, so I changed this to category type. I'll come back and undo if I need to."
   ]
  },
  {
   "cell_type": "code",
   "execution_count": null,
   "metadata": {},
   "outputs": [],
   "source": [
    "o_df.info(memory_usage='deep')\n",
    "print(o_df.describe())\n",
    "print(o_df.head())\n",
    "print(o_df.sample(5))"
   ]
  },
  {
   "cell_type": "code",
   "execution_count": null,
   "metadata": {},
   "outputs": [],
   "source": [
    "o_df['Buy Ts'] =  pd.to_datetime(o_df['Buy Ts'], format=\"%Y.%m.%d %H:%M\")\n",
    "\n",
    "o_df = o_df.rename(\n",
    "    columns={\n",
    "        'Uid': 'uid',\n",
    "        'Buy Ts': 'purchase_time',\n",
    "        'Revenue': 'profit'\n",
    "    }\n",
    ")"
   ]
  },
  {
   "cell_type": "code",
   "execution_count": null,
   "metadata": {},
   "outputs": [],
   "source": [
    "o_df.info(memory_usage='deep')\n",
    "print(o_df.describe())\n",
    "print(o_df.head())\n",
    "print(o_df.sample(5))"
   ]
  },
  {
   "attachments": {},
   "cell_type": "markdown",
   "metadata": {},
   "source": [
    "Going from memory usage: 4.4 MB to memory usage: 1.2 MB without any loss of data? Nice.\n",
    "## The orders table (data on orders):\n",
    "- uid — unique identifier of the user making an order\n",
    "    - Change from 'Uid' to 'uid'\n",
    "- purchase_time — order date and time\n",
    "    - Change from 'Buy Ts' to 'purchase_time'\n",
    "    - Convert to datetime type\n",
    "- profit — Yandex.Afisha's revenue from the order\n",
    "    - Change from 'Revenue' to 'profit'"
   ]
  },
  {
   "cell_type": "code",
   "execution_count": null,
   "metadata": {},
   "outputs": [],
   "source": [
    "c_df.info(memory_usage='deep')\n",
    "print(c_df.describe())\n",
    "print(c_df.head())\n",
    "print(c_df.sample(5))"
   ]
  },
  {
   "cell_type": "code",
   "execution_count": null,
   "metadata": {},
   "outputs": [],
   "source": [
    "c_df['source_id'].value_counts()"
   ]
  },
  {
   "cell_type": "code",
   "execution_count": null,
   "metadata": {},
   "outputs": [],
   "source": [
    "c_df['source_id'] = c_df['source_id'].astype('category')\n",
    "c_df['dt'] =  pd.to_datetime(c_df['dt'], format=\"%Y.%m.%d\")\n",
    "\n",
    "c_df = c_df.rename(\n",
    "    columns={\n",
    "        'dt': 'date'\n",
    "    }\n",
    ")"
   ]
  },
  {
   "cell_type": "code",
   "execution_count": null,
   "metadata": {},
   "outputs": [],
   "source": [
    "c_df.info(memory_usage='deep')\n",
    "print(c_df.describe())\n",
    "print(c_df.head())\n",
    "print(c_df.sample(5))"
   ]
  },
  {
   "attachments": {},
   "cell_type": "markdown",
   "metadata": {},
   "source": [
    "Going from memory usage: 206.2 KB to memory usage: 42.7 KB without any loss of data? Stellar move by me.\n",
    "\n",
    "## The costs table (data on marketing expenses):\n",
    "- source_id — ad source identifier\n",
    "    - There's only 7 unique values. Convert to category type\n",
    "- dt — date\n",
    "    - change from 'dt' to 'date'\n",
    "    - It only has dates, and no times. Convert to datetime type accordingly\n",
    "- costs — expenses on this ad source on this day\n",
    "    - This looks fine unchanged"
   ]
  },
  {
   "attachments": {},
   "cell_type": "markdown",
   "metadata": {},
   "source": [
    "Check for duplicate rows real quick:"
   ]
  },
  {
   "cell_type": "code",
   "execution_count": null,
   "metadata": {},
   "outputs": [],
   "source": [
    "print(v_df.duplicated().value_counts().get(True, 0), 'duplicate rows out of', v_df.shape[0])\n",
    "print(o_df.duplicated().value_counts().get(True, 0), 'duplicate rows out of', o_df.shape[0])\n",
    "print(c_df.duplicated().value_counts().get(True, 0), 'duplicate rows out of', c_df.shape[0])"
   ]
  },
  {
   "cell_type": "code",
   "execution_count": null,
   "metadata": {},
   "outputs": [],
   "source": [
    "v_df.to_csv('datasets/visits_log_us.csv', index=False)\n",
    "o_df.to_csv('datasets/orders_log_us.csv', index=False)\n",
    "c_df.to_csv('datasets/costs_us.csv', index=False)"
   ]
  },
  {
   "attachments": {},
   "cell_type": "markdown",
   "metadata": {},
   "source": [
    "The cleaned data has been saved!"
   ]
  }
 ],
 "metadata": {
  "kernelspec": {
   "display_name": "Python 3",
   "language": "python",
   "name": "python3"
  },
  "language_info": {
   "codemirror_mode": {
    "name": "ipython",
    "version": 3
   },
   "file_extension": ".py",
   "mimetype": "text/x-python",
   "name": "python",
   "nbconvert_exporter": "python",
   "pygments_lexer": "ipython3",
   "version": "3.10.4"
  },
  "orig_nbformat": 4
 },
 "nbformat": 4,
 "nbformat_minor": 2
}
