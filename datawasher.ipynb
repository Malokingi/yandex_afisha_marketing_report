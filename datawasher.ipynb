{
 "cells": [
  {
   "attachments": {},
   "cell_type": "markdown",
   "metadata": {},
   "source": [
    "Here we'll clean up the raw data from /datasets_dirty and move the clean data to /datasets"
   ]
  },
  {
   "cell_type": "code",
   "execution_count": 1,
   "metadata": {},
   "outputs": [],
   "source": [
    "import pandas as pd\n",
    "\n",
    "try:\n",
    "    v_df = pd.read_csv('datasets_dirty/visits_log_us.csv')\n",
    "except:\n",
    "    v_df = pd.read_csv('/datasets/visits_log_us.csv')\n",
    "\n",
    "try:\n",
    "    o_df = pd.read_csv('datasets_dirty/orders_log_us.csv')\n",
    "except:\n",
    "    o_df = pd.read_csv('/datasets/orders_log_us.csv')\n",
    "\n",
    "try:\n",
    "    c_df = pd.read_csv('datasets_dirty/costs_us.csv')\n",
    "except:\n",
    "    c_df = pd.read_csv('/datasets/costs_us.csv')"
   ]
  },
  {
   "cell_type": "code",
   "execution_count": 2,
   "metadata": {},
   "outputs": [
    {
     "name": "stdout",
     "output_type": "stream",
     "text": [
      "<class 'pandas.core.frame.DataFrame'>\n",
      "RangeIndex: 359400 entries, 0 to 359399\n",
      "Data columns (total 5 columns):\n",
      " #   Column     Non-Null Count   Dtype \n",
      "---  ------     --------------   ----- \n",
      " 0   Device     359400 non-null  object\n",
      " 1   End Ts     359400 non-null  object\n",
      " 2   Source Id  359400 non-null  int64 \n",
      " 3   Start Ts   359400 non-null  object\n",
      " 4   Uid        359400 non-null  uint64\n",
      "dtypes: int64(1), object(3), uint64(1)\n",
      "memory usage: 79.3 MB\n",
      "           Source Id           Uid\n",
      "count  359400.000000  3.594000e+05\n",
      "mean        3.750515  9.202557e+18\n",
      "std         1.917116  5.298433e+18\n",
      "min         1.000000  1.186350e+13\n",
      "25%         3.000000  4.613407e+18\n",
      "50%         4.000000  9.227413e+18\n",
      "75%         5.000000  1.372824e+19\n",
      "max        10.000000  1.844668e+19\n",
      "    Device               End Ts  Source Id             Start Ts  \\\n",
      "0    touch  2017-12-20 17:38:00          4  2017-12-20 17:20:00   \n",
      "1  desktop  2018-02-19 17:21:00          2  2018-02-19 16:53:00   \n",
      "2    touch  2017-07-01 01:54:00          5  2017-07-01 01:54:00   \n",
      "3  desktop  2018-05-20 11:23:00          9  2018-05-20 10:59:00   \n",
      "4  desktop  2017-12-27 14:06:00          3  2017-12-27 14:06:00   \n",
      "\n",
      "                    Uid  \n",
      "0  16879256277535980062  \n",
      "1    104060357244891740  \n",
      "2   7459035603376831527  \n",
      "3  16174680259334210214  \n",
      "4   9969694820036681168  \n",
      "         Device               End Ts  Source Id             Start Ts  \\\n",
      "317498    touch  2017-12-26 00:29:00          4  2017-12-26 00:25:00   \n",
      "131231  desktop  2018-01-18 13:04:00          1  2018-01-18 12:58:00   \n",
      "353347    touch  2017-06-30 16:17:00          4  2017-06-30 16:15:00   \n",
      "186420    touch  2017-12-21 19:32:00          3  2017-12-21 19:29:00   \n",
      "250200  desktop  2017-09-22 15:14:00          4  2017-09-22 15:10:00   \n",
      "\n",
      "                         Uid  \n",
      "317498  16199703515705317352  \n",
      "131231   1836805507853635352  \n",
      "353347  14364454994785603421  \n",
      "186420  12842708676574817260  \n",
      "250200   7040825098190910143  \n"
     ]
    }
   ],
   "source": [
    "v_df.info(memory_usage='deep')\n",
    "print(v_df.describe())\n",
    "print(v_df.head())\n",
    "print(v_df.sample(5))"
   ]
  },
  {
   "cell_type": "code",
   "execution_count": 3,
   "metadata": {},
   "outputs": [
    {
     "data": {
      "text/plain": [
       "desktop    262567\n",
       "touch       96833\n",
       "Name: Device, dtype: int64"
      ]
     },
     "execution_count": 3,
     "metadata": {},
     "output_type": "execute_result"
    }
   ],
   "source": [
    "v_df['Device'].value_counts()"
   ]
  },
  {
   "cell_type": "code",
   "execution_count": 4,
   "metadata": {},
   "outputs": [
    {
     "data": {
      "text/plain": [
       "4     101794\n",
       "3      85610\n",
       "5      66905\n",
       "2      47626\n",
       "1      34121\n",
       "9      13277\n",
       "10     10025\n",
       "7         36\n",
       "6          6\n",
       "Name: Source Id, dtype: int64"
      ]
     },
     "execution_count": 4,
     "metadata": {},
     "output_type": "execute_result"
    }
   ],
   "source": [
    "v_df['Source Id'].value_counts()"
   ]
  },
  {
   "cell_type": "code",
   "execution_count": 5,
   "metadata": {},
   "outputs": [
    {
     "name": "stdout",
     "output_type": "stream",
     "text": [
      "<class 'pandas.core.frame.DataFrame'>\n",
      "RangeIndex: 359400 entries, 0 to 359399\n",
      "Data columns (total 5 columns):\n",
      " #   Column     Non-Null Count   Dtype   \n",
      "---  ------     --------------   -----   \n",
      " 0   Device     359400 non-null  category\n",
      " 1   End Ts     359400 non-null  object  \n",
      " 2   Source Id  359400 non-null  category\n",
      " 3   Start Ts   359400 non-null  object  \n",
      " 4   Uid        359400 non-null  uint64  \n",
      "dtypes: category(2), object(2), uint64(1)\n",
      "memory usage: 55.5 MB\n"
     ]
    }
   ],
   "source": [
    "v_df['Device'] = v_df['Device'].astype('category')\n",
    "v_df['Source Id'] = v_df['Source Id'].astype('category')\n",
    "\n",
    "v_df.info(memory_usage='deep')"
   ]
  },
  {
   "cell_type": "code",
   "execution_count": 6,
   "metadata": {},
   "outputs": [],
   "source": [
    "v_df['Start Ts'] =  pd.to_datetime(v_df['Start Ts'], format=\"%Y.%m.%d %H:%M\")\n",
    "v_df['End Ts'] =  pd.to_datetime(v_df['End Ts'], format=\"%Y.%m.%d %H:%M\")"
   ]
  },
  {
   "cell_type": "code",
   "execution_count": 7,
   "metadata": {},
   "outputs": [
    {
     "name": "stdout",
     "output_type": "stream",
     "text": [
      "<class 'pandas.core.frame.DataFrame'>\n",
      "RangeIndex: 359400 entries, 0 to 359399\n",
      "Data columns (total 5 columns):\n",
      " #   Column      Non-Null Count   Dtype         \n",
      "---  ------      --------------   -----         \n",
      " 0   device      359400 non-null  category      \n",
      " 1   end_time    359400 non-null  datetime64[ns]\n",
      " 2   source_id   359400 non-null  category      \n",
      " 3   start_time  359400 non-null  datetime64[ns]\n",
      " 4   uid         359400 non-null  uint64        \n",
      "dtypes: category(2), datetime64[ns](2), uint64(1)\n",
      "memory usage: 8.9 MB\n",
      "                uid\n",
      "count  3.594000e+05\n",
      "mean   9.202557e+18\n",
      "std    5.298433e+18\n",
      "min    1.186350e+13\n",
      "25%    4.613407e+18\n",
      "50%    9.227413e+18\n",
      "75%    1.372824e+19\n",
      "max    1.844668e+19\n",
      "    device            end_time source_id          start_time  \\\n",
      "0    touch 2017-12-20 17:38:00         4 2017-12-20 17:20:00   \n",
      "1  desktop 2018-02-19 17:21:00         2 2018-02-19 16:53:00   \n",
      "2    touch 2017-07-01 01:54:00         5 2017-07-01 01:54:00   \n",
      "3  desktop 2018-05-20 11:23:00         9 2018-05-20 10:59:00   \n",
      "4  desktop 2017-12-27 14:06:00         3 2017-12-27 14:06:00   \n",
      "\n",
      "                    uid  \n",
      "0  16879256277535980062  \n",
      "1    104060357244891740  \n",
      "2   7459035603376831527  \n",
      "3  16174680259334210214  \n",
      "4   9969694820036681168  \n",
      "         device            end_time source_id          start_time  \\\n",
      "142951    touch 2017-09-23 00:23:00         5 2017-09-22 23:50:00   \n",
      "230609  desktop 2017-09-21 12:29:00         4 2017-09-21 11:54:00   \n",
      "234551  desktop 2018-03-17 19:03:00         9 2018-03-17 18:58:00   \n",
      "8568      touch 2017-12-30 02:18:00         5 2017-12-30 02:16:00   \n",
      "243329    touch 2018-05-29 13:50:00         2 2018-05-29 13:48:00   \n",
      "\n",
      "                         uid  \n",
      "142951   2207890717919619346  \n",
      "230609    660973729991796634  \n",
      "234551  18251348875191624114  \n",
      "8568     2278694205909603767  \n",
      "243329  12808210333854690750  \n"
     ]
    }
   ],
   "source": [
    "v_df = v_df.rename(\n",
    "    columns={\n",
    "        'Uid': 'uid',\n",
    "        'Device': 'device',\n",
    "        'Start Ts': 'start_time',\n",
    "        'End Ts': 'end_time',\n",
    "        'Source Id': 'source_id'\n",
    "    }\n",
    ")\n",
    "\n",
    "v_df.info(memory_usage='deep')\n",
    "print(v_df.describe())\n",
    "print(v_df.head())\n",
    "print(v_df.sample(5))"
   ]
  },
  {
   "attachments": {},
   "cell_type": "markdown",
   "metadata": {},
   "source": [
    "Going from memory usage: 79.3 MB to memory usage: 8.9 MB without any loss of data? Nice.\n",
    "## The visits table (server logs with data on website visits):\n",
    "- uid — user's unique identifier\n",
    "    - Change from 'Uid' to 'uid'\n",
    "- device — user's device\n",
    "    - Change from 'Device' to 'device'\n",
    "    - There's only two different values, so I'll change the type to category\n",
    "- start_time — session start date and time\n",
    "    - Change name from 'Start Ts' to 'start_time'\n",
    "    - Looks like the seconds aren't included in this, I'll convert to datetime\n",
    "- end_time — session end date and time\n",
    "    - Change name from 'End Ts' to 'end_time'\n",
    "    - Change to datetime type also\n",
    "- source_id — identifier of the ad source the user came from\n",
    "    - Change name from 'Source Id' to 'source_id'\n",
    "    - There's only 10 unique values, so I changed this to category type. I'll come back and undo if I need to."
   ]
  },
  {
   "cell_type": "code",
   "execution_count": 8,
   "metadata": {},
   "outputs": [
    {
     "name": "stdout",
     "output_type": "stream",
     "text": [
      "<class 'pandas.core.frame.DataFrame'>\n",
      "RangeIndex: 50415 entries, 0 to 50414\n",
      "Data columns (total 3 columns):\n",
      " #   Column   Non-Null Count  Dtype  \n",
      "---  ------   --------------  -----  \n",
      " 0   Buy Ts   50415 non-null  object \n",
      " 1   Revenue  50415 non-null  float64\n",
      " 2   Uid      50415 non-null  uint64 \n",
      "dtypes: float64(1), object(1), uint64(1)\n",
      "memory usage: 4.4 MB\n",
      "            Revenue           Uid\n",
      "count  50415.000000  5.041500e+04\n",
      "mean       4.999647  9.098161e+18\n",
      "std       21.818359  5.285742e+18\n",
      "min        0.000000  3.135781e+14\n",
      "25%        1.220000  4.533567e+18\n",
      "50%        2.500000  9.102274e+18\n",
      "75%        4.890000  1.368290e+19\n",
      "max     2633.280000  1.844617e+19\n",
      "                Buy Ts  Revenue                   Uid\n",
      "0  2017-06-01 00:10:00    17.00  10329302124590727494\n",
      "1  2017-06-01 00:25:00     0.55  11627257723692907447\n",
      "2  2017-06-01 00:27:00     0.37  17903680561304213844\n",
      "3  2017-06-01 00:29:00     0.55  16109239769442553005\n",
      "4  2017-06-01 07:58:00     0.37  14200605875248379450\n",
      "                    Buy Ts  Revenue                   Uid\n",
      "15674  2017-11-01 16:10:00     0.43  15076237889250711061\n",
      "43478  2018-04-08 13:45:00     1.22  11435960742690955322\n",
      "43846  2018-04-12 10:15:00     4.28   4533381926270658807\n",
      "15324  2017-10-30 15:33:00     2.44  12792404426042448449\n",
      "31616  2018-01-29 13:07:00     1.59  11920452646463905188\n"
     ]
    }
   ],
   "source": [
    "o_df.info(memory_usage='deep')\n",
    "print(o_df.describe())\n",
    "print(o_df.head())\n",
    "print(o_df.sample(5))"
   ]
  },
  {
   "cell_type": "code",
   "execution_count": 9,
   "metadata": {},
   "outputs": [],
   "source": [
    "o_df['Buy Ts'] =  pd.to_datetime(o_df['Buy Ts'], format=\"%Y.%m.%d %H:%M\")\n",
    "\n",
    "o_df = o_df.rename(\n",
    "    columns={\n",
    "        'Uid': 'uid',\n",
    "        'Buy Ts': 'purchase_time',\n",
    "        'Revenue': 'profit'\n",
    "    }\n",
    ")"
   ]
  },
  {
   "cell_type": "code",
   "execution_count": 10,
   "metadata": {},
   "outputs": [
    {
     "name": "stdout",
     "output_type": "stream",
     "text": [
      "<class 'pandas.core.frame.DataFrame'>\n",
      "RangeIndex: 50415 entries, 0 to 50414\n",
      "Data columns (total 3 columns):\n",
      " #   Column         Non-Null Count  Dtype         \n",
      "---  ------         --------------  -----         \n",
      " 0   purchase_time  50415 non-null  datetime64[ns]\n",
      " 1   profit         50415 non-null  float64       \n",
      " 2   uid            50415 non-null  uint64        \n",
      "dtypes: datetime64[ns](1), float64(1), uint64(1)\n",
      "memory usage: 1.2 MB\n",
      "             profit           uid\n",
      "count  50415.000000  5.041500e+04\n",
      "mean       4.999647  9.098161e+18\n",
      "std       21.818359  5.285742e+18\n",
      "min        0.000000  3.135781e+14\n",
      "25%        1.220000  4.533567e+18\n",
      "50%        2.500000  9.102274e+18\n",
      "75%        4.890000  1.368290e+19\n",
      "max     2633.280000  1.844617e+19\n",
      "        purchase_time  profit                   uid\n",
      "0 2017-06-01 00:10:00   17.00  10329302124590727494\n",
      "1 2017-06-01 00:25:00    0.55  11627257723692907447\n",
      "2 2017-06-01 00:27:00    0.37  17903680561304213844\n",
      "3 2017-06-01 00:29:00    0.55  16109239769442553005\n",
      "4 2017-06-01 07:58:00    0.37  14200605875248379450\n",
      "            purchase_time  profit                   uid\n",
      "26778 2017-12-28 19:59:00   11.00  14831693175444147027\n",
      "12794 2017-10-14 22:03:00    1.22  14265081595505794148\n",
      "41534 2018-03-24 15:13:00    4.64   9081649448278804704\n",
      "34816 2018-02-14 15:36:00    1.34  12522381032095210678\n",
      "6256  2017-08-29 08:05:00    8.80   7543219448382662706\n"
     ]
    }
   ],
   "source": [
    "o_df.info(memory_usage='deep')\n",
    "print(o_df.describe())\n",
    "print(o_df.head())\n",
    "print(o_df.sample(5))"
   ]
  },
  {
   "attachments": {},
   "cell_type": "markdown",
   "metadata": {},
   "source": [
    "Going from memory usage: 4.4 MB to memory usage: 1.2 MB without any loss of data? Nice.\n",
    "## The orders table (data on orders):\n",
    "- uid — unique identifier of the user making an order\n",
    "    - Change from 'Uid' to 'uid'\n",
    "- purchase_time — order date and time\n",
    "    - Change from 'Buy Ts' to 'purchase_time'\n",
    "    - Convert to datetime type\n",
    "- profit — Yandex.Afisha's revenue from the order\n",
    "    - Change from 'Revenue' to 'profit'"
   ]
  },
  {
   "cell_type": "code",
   "execution_count": 11,
   "metadata": {},
   "outputs": [
    {
     "name": "stdout",
     "output_type": "stream",
     "text": [
      "<class 'pandas.core.frame.DataFrame'>\n",
      "RangeIndex: 2542 entries, 0 to 2541\n",
      "Data columns (total 3 columns):\n",
      " #   Column     Non-Null Count  Dtype  \n",
      "---  ------     --------------  -----  \n",
      " 0   source_id  2542 non-null   int64  \n",
      " 1   dt         2542 non-null   object \n",
      " 2   costs      2542 non-null   float64\n",
      "dtypes: float64(1), int64(1), object(1)\n",
      "memory usage: 206.2 KB\n",
      "         source_id        costs\n",
      "count  2542.000000  2542.000000\n",
      "mean      4.857199   129.477427\n",
      "std       3.181581   156.296628\n",
      "min       1.000000     0.540000\n",
      "25%       2.000000    21.945000\n",
      "50%       4.000000    77.295000\n",
      "75%       9.000000   170.065000\n",
      "max      10.000000  1788.280000\n",
      "   source_id          dt  costs\n",
      "0          1  2017-06-01  75.20\n",
      "1          1  2017-06-02  62.25\n",
      "2          1  2017-06-03  36.53\n",
      "3          1  2017-06-04  55.00\n",
      "4          1  2017-06-05  57.08\n",
      "      source_id          dt   costs\n",
      "944           3  2018-01-05  498.58\n",
      "1413          4  2018-04-23   65.52\n",
      "76            1  2017-08-16   22.07\n",
      "964           3  2018-01-25  470.87\n",
      "1336          4  2018-02-03   84.62\n"
     ]
    }
   ],
   "source": [
    "c_df.info(memory_usage='deep')\n",
    "print(c_df.describe())\n",
    "print(c_df.head())\n",
    "print(c_df.sample(5))"
   ]
  },
  {
   "cell_type": "code",
   "execution_count": 12,
   "metadata": {},
   "outputs": [
    {
     "data": {
      "text/plain": [
       "5     364\n",
       "1     363\n",
       "2     363\n",
       "3     363\n",
       "4     363\n",
       "9     363\n",
       "10    363\n",
       "Name: source_id, dtype: int64"
      ]
     },
     "execution_count": 12,
     "metadata": {},
     "output_type": "execute_result"
    }
   ],
   "source": [
    "c_df['source_id'].value_counts()"
   ]
  },
  {
   "cell_type": "code",
   "execution_count": 13,
   "metadata": {},
   "outputs": [],
   "source": [
    "c_df['source_id'] = c_df['source_id'].astype('category')\n",
    "c_df['dt'] =  pd.to_datetime(c_df['dt'], format=\"%Y.%m.%d\")\n",
    "\n",
    "c_df = c_df.rename(\n",
    "    columns={\n",
    "        'dt': 'date'\n",
    "    }\n",
    ")"
   ]
  },
  {
   "cell_type": "code",
   "execution_count": 14,
   "metadata": {},
   "outputs": [
    {
     "name": "stdout",
     "output_type": "stream",
     "text": [
      "<class 'pandas.core.frame.DataFrame'>\n",
      "RangeIndex: 2542 entries, 0 to 2541\n",
      "Data columns (total 3 columns):\n",
      " #   Column     Non-Null Count  Dtype         \n",
      "---  ------     --------------  -----         \n",
      " 0   source_id  2542 non-null   category      \n",
      " 1   date       2542 non-null   datetime64[ns]\n",
      " 2   costs      2542 non-null   float64       \n",
      "dtypes: category(1), datetime64[ns](1), float64(1)\n",
      "memory usage: 42.7 KB\n",
      "             costs\n",
      "count  2542.000000\n",
      "mean    129.477427\n",
      "std     156.296628\n",
      "min       0.540000\n",
      "25%      21.945000\n",
      "50%      77.295000\n",
      "75%     170.065000\n",
      "max    1788.280000\n",
      "  source_id       date  costs\n",
      "0         1 2017-06-01  75.20\n",
      "1         1 2017-06-02  62.25\n",
      "2         1 2017-06-03  36.53\n",
      "3         1 2017-06-04  55.00\n",
      "4         1 2017-06-05  57.08\n",
      "     source_id       date   costs\n",
      "1879         9 2017-08-03    9.30\n",
      "1829         9 2017-06-14    5.08\n",
      "570          2 2017-12-25  176.20\n",
      "1144         4 2017-07-26   60.41\n",
      "736          3 2017-06-11  148.50\n"
     ]
    }
   ],
   "source": [
    "c_df.info(memory_usage='deep')\n",
    "print(c_df.describe())\n",
    "print(c_df.head())\n",
    "print(c_df.sample(5))"
   ]
  },
  {
   "attachments": {},
   "cell_type": "markdown",
   "metadata": {},
   "source": [
    "Going from memory usage: 206.2 KB to memory usage: 42.7 KB without any loss of data? Stellar move by me.\n",
    "\n",
    "## The costs table (data on marketing expenses):\n",
    "- source_id — ad source identifier\n",
    "    - There's only 7 unique values. Convert to category type\n",
    "- dt — date\n",
    "    - change from 'dt' to 'date'\n",
    "    - It only has dates, and no times. Convert to datetime type accordingly\n",
    "- costs — expenses on this ad source on this day\n",
    "    - This looks fine unchanged"
   ]
  },
  {
   "attachments": {},
   "cell_type": "markdown",
   "metadata": {},
   "source": [
    "Check for duplicate rows real quick:"
   ]
  },
  {
   "cell_type": "code",
   "execution_count": 17,
   "metadata": {},
   "outputs": [
    {
     "name": "stdout",
     "output_type": "stream",
     "text": [
      "0 duplicate rows out of 359400\n",
      "0 duplicate rows out of 50415\n",
      "0 duplicate rows out of 2542\n"
     ]
    }
   ],
   "source": [
    "print(v_df.duplicated().value_counts().get(True, 0), 'duplicate rows out of', v_df.shape[0])\n",
    "print(o_df.duplicated().value_counts().get(True, 0), 'duplicate rows out of', o_df.shape[0])\n",
    "print(c_df.duplicated().value_counts().get(True, 0), 'duplicate rows out of', c_df.shape[0])"
   ]
  },
  {
   "cell_type": "code",
   "execution_count": 32,
   "metadata": {},
   "outputs": [],
   "source": [
    "v_df.to_csv('datasets/visits_log_us.csv', index=False)\n",
    "o_df.to_csv('datasets/orders_log_us.csv', index=False)\n",
    "c_df.to_csv('datasets/costs_us.csv', index=False)"
   ]
  },
  {
   "attachments": {},
   "cell_type": "markdown",
   "metadata": {},
   "source": [
    "The cleaned data has been saved!"
   ]
  }
 ],
 "metadata": {
  "kernelspec": {
   "display_name": "Python 3",
   "language": "python",
   "name": "python3"
  },
  "language_info": {
   "codemirror_mode": {
    "name": "ipython",
    "version": 3
   },
   "file_extension": ".py",
   "mimetype": "text/x-python",
   "name": "python",
   "nbconvert_exporter": "python",
   "pygments_lexer": "ipython3",
   "version": "3.10.4"
  },
  "orig_nbformat": 4
 },
 "nbformat": 4,
 "nbformat_minor": 2
}
