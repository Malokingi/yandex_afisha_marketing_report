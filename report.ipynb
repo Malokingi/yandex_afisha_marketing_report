{
 "cells": [
  {
   "attachments": {},
   "cell_type": "markdown",
   "metadata": {},
   "source": [
    "Here we'll put the bulk of the work."
   ]
  },
  {
   "cell_type": "code",
   "execution_count": 1,
   "metadata": {},
   "outputs": [],
   "source": [
    "import pandas as pd\n",
    "import numpy as np\n",
    "\n",
    "v_df = pd.read_csv(\n",
    "    'datasets/visits_log_us.csv',\n",
    "    parse_dates=['start_time', 'end_time'],\n",
    "    dtype=\n",
    "        {\n",
    "            'device': 'category',\n",
    "            'source_id': 'category'\n",
    "        }\n",
    "    )\n",
    "o_df = pd.read_csv(\n",
    "    'datasets/orders_log_us.csv',\n",
    "    parse_dates=['purchase_time']\n",
    ")\n",
    "c_df = pd.read_csv(\n",
    "    'datasets/costs_us.csv',\n",
    "    parse_dates=['date'],\n",
    "    dtype=\n",
    "        {\n",
    "            'source_id': 'category'\n",
    "        }\n",
    ")\n",
    "\n",
    "# for checking on the data, but only one line needs to be commented out or un-commented out\n",
    "check_data = False\n",
    "# check_data = True\n",
    "if check_data:\n",
    "    v_df.info()\n",
    "    print(v_df.head())\n",
    "    print()\n",
    "    o_df.info()\n",
    "    print(o_df.head())\n",
    "    print()\n",
    "    c_df.info()\n",
    "    print(c_df.head())"
   ]
  },
  {
   "cell_type": "code",
   "execution_count": 2,
   "metadata": {},
   "outputs": [
    {
     "name": "stdout",
     "output_type": "stream",
     "text": [
      "         device            end_time source_id          start_time  \\\n",
      "208606    touch 2017-11-11 19:33:00         3 2017-11-11 19:32:00   \n",
      "40435   desktop 2017-10-02 17:55:00         5 2017-10-02 17:52:00   \n",
      "234600  desktop 2017-09-25 12:06:00         4 2017-09-25 12:06:00   \n",
      "236919  desktop 2018-01-02 01:57:00         5 2018-01-02 01:56:00   \n",
      "355041    touch 2017-12-05 20:13:00         4 2017-12-05 19:57:00   \n",
      "236234  desktop 2017-12-29 19:52:00         3 2017-12-29 19:50:00   \n",
      "210584    touch 2018-05-24 14:21:00         1 2018-05-24 13:36:00   \n",
      "\n",
      "                         uid  session_year  session_month  session_week  \\\n",
      "208606    726182164025950557          2017             11            45   \n",
      "40435   12467258775864758748          2017             10            40   \n",
      "234600  13738821311423048524          2017              9            39   \n",
      "236919   9483480442402464301          2018              1             1   \n",
      "355041  15662027884326541793          2017             12            49   \n",
      "236234  16637888980308430888          2017             12            52   \n",
      "210584   5936171285802870690          2018              5            21   \n",
      "\n",
      "       session_date  \n",
      "208606   2017-11-11  \n",
      "40435    2017-10-02  \n",
      "234600   2017-09-25  \n",
      "236919   2018-01-02  \n",
      "355041   2017-12-05  \n",
      "236234   2017-12-29  \n",
      "210584   2018-05-24  \n"
     ]
    }
   ],
   "source": [
    "v_df['session_year']  = v_df['start_time'].dt.isocalendar().year\n",
    "v_df['session_month'] = v_df['start_time'].dt.month\n",
    "v_df['session_week']  = v_df['start_time'].dt.isocalendar().week\n",
    "v_df['session_date'] = v_df['start_time'].dt.date\n",
    "\n",
    "print(v_df.sample(7))"
   ]
  },
  {
   "cell_type": "code",
   "execution_count": 3,
   "metadata": {},
   "outputs": [
    {
     "name": "stdout",
     "output_type": "stream",
     "text": [
      "dau = 907 wau = 5716 mau = 23228\n",
      "sticky_wau = 15.88% sticky_mau = 3.91%\n"
     ]
    }
   ],
   "source": [
    "dau_total = (\n",
    "    v_df.groupby('session_date')\n",
    "    .agg({'uid': 'nunique'})\n",
    "    .mean()\n",
    ")\n",
    "\n",
    "wau_total = (\n",
    "    v_df.groupby(['session_year', 'session_week'])\n",
    "    .agg({'uid': 'nunique'})\n",
    "    .mean()\n",
    ")\n",
    "\n",
    "mau_total = (\n",
    "    v_df.groupby(['session_year', 'session_month'])\n",
    "    .agg({'uid': 'nunique'})\n",
    "    .mean()\n",
    ")\n",
    "\n",
    "sticky_wau = (dau_total / wau_total) * 100\n",
    "sticky_mau = (dau_total / mau_total) * 100\n",
    "\n",
    "print(f'dau = {int(dau_total)} wau = {int(wau_total)} mau = {int(mau_total)}')\n",
    "print(f'sticky_wau = {float(sticky_wau):.2f}% sticky_mau = {float(sticky_mau):.2f}%')"
   ]
  },
  {
   "cell_type": "code",
   "execution_count": 4,
   "metadata": {},
   "outputs": [
    {
     "name": "stdout",
     "output_type": "stream",
     "text": [
      "         device            end_time source_id          start_time  \\\n",
      "41423   desktop 2018-05-25 09:42:00         4 2018-05-25 09:22:00   \n",
      "84362     touch 2017-07-28 17:35:00         4 2017-07-28 17:33:00   \n",
      "42283   desktop 2018-05-17 11:18:00         2 2018-05-17 11:17:00   \n",
      "91223   desktop 2017-07-24 13:48:00         3 2017-07-24 13:45:00   \n",
      "75025   desktop 2017-06-23 11:46:00         2 2017-06-23 11:45:00   \n",
      "100630    touch 2018-03-16 11:25:00        10 2018-03-16 11:19:00   \n",
      "168964  desktop 2018-01-21 19:10:00         4 2018-01-21 19:00:00   \n",
      "27776   desktop 2017-09-21 12:05:00         9 2017-09-21 12:04:00   \n",
      "247790  desktop 2017-11-29 09:31:00         2 2017-11-29 09:30:00   \n",
      "232281  desktop 2018-02-19 11:44:00         3 2018-02-19 11:35:00   \n",
      "\n",
      "                         uid  session_year  session_month  session_week  \\\n",
      "41423    4557690209991592540          2018              5            21   \n",
      "84362    2521821748719908325          2017              7            30   \n",
      "42283   16776820987522585059          2018              5            20   \n",
      "91223    3820417329441807187          2017              7            30   \n",
      "75025    3866598802573507795          2017              6            25   \n",
      "100630  11896523615768404248          2018              3            11   \n",
      "168964   1184345874624687771          2018              1             3   \n",
      "27776    8629504313613702021          2017              9            38   \n",
      "247790  10562390695110611024          2017             11            48   \n",
      "232281  17800761111924198824          2018              2             8   \n",
      "\n",
      "       session_date  session_duration_mins  \n",
      "41423    2018-05-25                   20.0  \n",
      "84362    2017-07-28                    2.0  \n",
      "42283    2018-05-17                    1.0  \n",
      "91223    2017-07-24                    3.0  \n",
      "75025    2017-06-23                    1.0  \n",
      "100630   2018-03-16                    6.0  \n",
      "168964   2018-01-21                   10.0  \n",
      "27776    2017-09-21                    1.0  \n",
      "247790   2017-11-29                    1.0  \n",
      "232281   2018-02-19                    9.0  \n"
     ]
    }
   ],
   "source": [
    "v_df['session_duration_mins'] = (\n",
    "    v_df['end_time'] - v_df['start_time']\n",
    ").dt.seconds / 60\n",
    "\n",
    "print(v_df.sample(10))"
   ]
  },
  {
   "cell_type": "code",
   "execution_count": 5,
   "metadata": {},
   "outputs": [
    {
     "name": "stdout",
     "output_type": "stream",
     "text": [
      "              sessions\n",
      "session_date          \n",
      "2017-07-17        1278\n",
      "2017-10-09        1362\n",
      "2018-03-29        1128\n",
      "2017-11-01        1339\n",
      "2017-09-15         774\n",
      "2017-08-10         470\n",
      "2017-08-21         558\n",
      "2018-04-10         965\n",
      "2018-02-11        1124\n",
      "2018-01-27        1044\n"
     ]
    }
   ],
   "source": [
    "v_by_day = v_df.groupby('session_date').agg({\n",
    "    'start_time': 'count'\n",
    "})\n",
    "v_by_day = v_by_day.rename(\n",
    "    columns={\n",
    "        'start_time': 'sessions'\n",
    "    }\n",
    ")\n",
    "print(v_by_day.sample(10))"
   ]
  },
  {
   "cell_type": "code",
   "execution_count": 6,
   "metadata": {},
   "outputs": [],
   "source": [
    "first_session_date = v_df.groupby(['uid'])['session_date'].min()\n",
    "first_session_date.name = 'first_session_date'\n",
    "\n",
    "v_df = v_df.join(first_session_date, on='uid')"
   ]
  },
  {
   "cell_type": "code",
   "execution_count": 8,
   "metadata": {},
   "outputs": [],
   "source": [
    "first_session_week = v_df.groupby(['uid'])['session_week'].min()\n",
    "first_session_week.name = 'first_session_week'\n",
    "\n",
    "v_df = v_df.join(first_session_week, on='uid')"
   ]
  },
  {
   "cell_type": "code",
   "execution_count": 9,
   "metadata": {},
   "outputs": [],
   "source": [
    "first_session_month = v_df.groupby(['uid'])['session_month'].min()\n",
    "first_session_month.name = 'first_session_month'\n",
    "\n",
    "v_df = v_df.join(first_session_month, on='uid')"
   ]
  },
  {
   "cell_type": "code",
   "execution_count": 10,
   "metadata": {},
   "outputs": [
    {
     "name": "stdout",
     "output_type": "stream",
     "text": [
      "         device            end_time source_id          start_time  \\\n",
      "165109    touch 2018-03-28 18:12:00         1 2018-03-28 18:02:00   \n",
      "150093  desktop 2018-02-08 22:31:00         5 2018-02-08 22:30:00   \n",
      "13695     touch 2017-08-07 14:03:00         3 2017-08-07 13:49:00   \n",
      "103965  desktop 2017-10-22 20:52:00         3 2017-10-22 20:52:00   \n",
      "14541   desktop 2018-03-30 09:24:00         4 2018-03-30 08:32:00   \n",
      "164850    touch 2017-09-08 14:45:00         3 2017-09-08 14:40:00   \n",
      "248016  desktop 2018-01-05 10:42:00         4 2018-01-05 10:35:00   \n",
      "221960  desktop 2017-06-28 00:57:00         3 2017-06-28 00:34:00   \n",
      "149830    touch 2018-03-03 08:16:00         1 2018-03-03 07:52:00   \n",
      "319662  desktop 2018-03-05 11:30:00         4 2018-03-05 10:45:00   \n",
      "\n",
      "                         uid  session_year  session_month  session_week  \\\n",
      "165109   7937065672578171549          2018              3            13   \n",
      "150093   2243689000952188372          2018              2             6   \n",
      "13695   13721089284305197349          2017              8            32   \n",
      "103965  13383842530667252275          2017             10            42   \n",
      "14541    2745581402917298546          2018              3            13   \n",
      "164850    586078824655610348          2017              9            36   \n",
      "248016   4727009519088383845          2018              1             1   \n",
      "221960  16920179028714681919          2017              6            26   \n",
      "149830   5154412134251155158          2018              3             9   \n",
      "319662  17173770487938231908          2018              3            10   \n",
      "\n",
      "       session_date  session_duration_mins first_session_date  \\\n",
      "165109   2018-03-28                   10.0         2017-11-26   \n",
      "150093   2018-02-08                    1.0         2017-10-29   \n",
      "13695    2017-08-07                   14.0         2017-08-07   \n",
      "103965   2017-10-22                    0.0         2017-10-19   \n",
      "14541    2018-03-30                   52.0         2017-06-15   \n",
      "164850   2017-09-08                    5.0         2017-09-08   \n",
      "248016   2018-01-05                    7.0         2018-01-05   \n",
      "221960   2017-06-28                   23.0         2017-06-28   \n",
      "149830   2018-03-03                   24.0         2018-03-03   \n",
      "319662   2018-03-05                   45.0         2017-12-21   \n",
      "\n",
      "        first_session_week  first_session_month  cohort_lifetime_months  \n",
      "165109                  10                    3                       4  \n",
      "150093                   6                    2                       3  \n",
      "13695                   32                    8                       0  \n",
      "103965                  42                   10                       0  \n",
      "14541                   13                    3                       9  \n",
      "164850                  36                    9                       0  \n",
      "248016                   1                    1                       0  \n",
      "221960                  26                    6                       0  \n",
      "149830                   9                    3                       0  \n",
      "319662                   5                    1                       2  \n"
     ]
    }
   ],
   "source": [
    "v_df['cohort_lifetime_months'] = ((\n",
    "        v_df['session_date']\n",
    "            -\n",
    "        v_df['first_session_date']\n",
    "    ) / np.timedelta64(1, 'M')\n",
    ").astype(int)\n",
    "\n",
    "print(v_df.sample(10))"
   ]
  },
  {
   "cell_type": "code",
   "execution_count": 11,
   "metadata": {},
   "outputs": [
    {
     "name": "stdout",
     "output_type": "stream",
     "text": [
      "    first_session_month  cohort_lifetime_months    uid  cohort_users  \\\n",
      "63                    6                       3    433         11309   \n",
      "39                    4                       3    235         17468   \n",
      "10                    1                      10    272         28716   \n",
      "45                    4                       9    226         17468   \n",
      "82                    9                       3    188         14790   \n",
      "76                    8                       2    375          8945   \n",
      "74                    8                       0   8945          8945   \n",
      "12                    2                       0  26007         26007   \n",
      "36                    4                       0  17468         17468   \n",
      "32                    3                       8    361         23510   \n",
      "\n",
      "    retention  \n",
      "63   0.038288  \n",
      "39   0.013453  \n",
      "10   0.009472  \n",
      "45   0.012938  \n",
      "82   0.012711  \n",
      "76   0.041923  \n",
      "74   1.000000  \n",
      "12   1.000000  \n",
      "36   1.000000  \n",
      "32   0.015355  \n"
     ]
    }
   ],
   "source": [
    "cohorts = (\n",
    "    v_df.groupby(['first_session_month', 'cohort_lifetime_months'])\n",
    "    .agg({'uid': 'nunique'})\n",
    "    .reset_index()\n",
    ")\n",
    "initial_users_count = cohorts[cohorts['cohort_lifetime_months'] == 0][ ['first_session_month', 'uid'] ]\n",
    "initial_users_count = initial_users_count.rename( columns={'uid': 'cohort_users'} ) \n",
    "\n",
    "cohorts = cohorts.merge(initial_users_count, on='first_session_month')\n",
    "\n",
    "cohorts['retention'] = cohorts['uid'] / cohorts['cohort_users']\n",
    "\n",
    "print(cohorts.sample(10))"
   ]
  },
  {
   "cell_type": "code",
   "execution_count": 12,
   "metadata": {},
   "outputs": [
    {
     "name": "stdout",
     "output_type": "stream",
     "text": [
      "cohort_lifetime_months   0         1         2         3         4         5   \\\n",
      "first_session_month                                                             \n",
      "1                       1.0  0.118053  0.098865  0.084343  0.062021  0.048997   \n",
      "2                       1.0  0.061945  0.065675  0.051102  0.037913  0.026839   \n",
      "3                       1.0  0.041684  0.035006  0.034368  0.033730  0.027690   \n",
      "4                       1.0  0.028681  0.006526  0.013453  0.026219  0.024216   \n",
      "5                       1.0  0.008554  0.004990  0.004574  0.011287  0.019425   \n",
      "6                       1.0  0.034397  0.032187  0.038288  0.034928  0.033336   \n",
      "7                       1.0  0.035284  0.036070  0.033188  0.033362  0.014847   \n",
      "8                       1.0  0.043823  0.041923  0.034097  0.013639       NaN   \n",
      "9                       1.0  0.051454  0.043475  0.012711       NaN       NaN   \n",
      "10                      1.0  0.044922  0.017683       NaN       NaN       NaN   \n",
      "11                      1.0  0.018381       NaN       NaN       NaN       NaN   \n",
      "12                      1.0       NaN       NaN       NaN       NaN       NaN   \n",
      "\n",
      "cohort_lifetime_months        6         7         8         9         10  \\\n",
      "first_session_month                                                        \n",
      "1                       0.043634  0.032908  0.017203  0.012746  0.009472   \n",
      "2                       0.022186  0.020841  0.015342  0.004999  0.003538   \n",
      "3                       0.019651  0.014037  0.015355  0.011570  0.003063   \n",
      "4                       0.018892  0.012079  0.008759  0.012938  0.007270   \n",
      "5                       0.018177  0.015386  0.009445  0.007366  0.011821   \n",
      "6                       0.018216       NaN       NaN       NaN       NaN   \n",
      "7                       0.000087       NaN       NaN       NaN       NaN   \n",
      "8                            NaN       NaN       NaN       NaN       NaN   \n",
      "9                            NaN       NaN       NaN       NaN       NaN   \n",
      "10                           NaN       NaN       NaN       NaN       NaN   \n",
      "11                           NaN       NaN       NaN       NaN       NaN   \n",
      "12                           NaN       NaN       NaN       NaN       NaN   \n",
      "\n",
      "cohort_lifetime_months        11  \n",
      "first_session_month               \n",
      "1                       0.006233  \n",
      "2                       0.001730  \n",
      "3                       0.001148  \n",
      "4                       0.001775  \n",
      "5                       0.009029  \n",
      "6                            NaN  \n",
      "7                            NaN  \n",
      "8                            NaN  \n",
      "9                            NaN  \n",
      "10                           NaN  \n",
      "11                           NaN  \n",
      "12                           NaN  \n"
     ]
    }
   ],
   "source": [
    "# make and print table\n",
    "retention_pivot = cohorts.pivot_table(\n",
    "    index='first_session_month',\n",
    "    columns='cohort_lifetime_months',\n",
    "    values='retention',\n",
    "    aggfunc='sum',\n",
    ")\n",
    "\n",
    "print(retention_pivot)"
   ]
  },
  {
   "cell_type": "code",
   "execution_count": null,
   "metadata": {},
   "outputs": [],
   "source": []
  }
 ],
 "metadata": {
  "kernelspec": {
   "display_name": "Python 3",
   "language": "python",
   "name": "python3"
  },
  "language_info": {
   "codemirror_mode": {
    "name": "ipython",
    "version": 3
   },
   "file_extension": ".py",
   "mimetype": "text/x-python",
   "name": "python",
   "nbconvert_exporter": "python",
   "pygments_lexer": "ipython3",
   "version": "3.10.4"
  },
  "orig_nbformat": 4
 },
 "nbformat": 4,
 "nbformat_minor": 2
}
